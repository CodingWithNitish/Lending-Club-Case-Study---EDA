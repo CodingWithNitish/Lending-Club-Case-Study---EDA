{
 "cells": [
  {
   "cell_type": "markdown",
   "metadata": {},
   "source": [
    "# LENDING CLUD CASE STUDY\n",
    "\n",
    "This  __BANKING and FINANCIAL SERVICES__  case study __aims to benefit__ consumer finance __company to identify risky loan applicants__. Additionally, it also __helps to recognize the patterns which indicate if a loan applicant is likely to default__, which could be used by the company to make decision on loan approval.\n",
    "\n",
    "#### Dataset \n",
    "loan.csv\n",
    "\n",
    "#### Data Dictionary\n",
    "Data_Dictionary.xlsx"
   ]
  },
  {
   "cell_type": "markdown",
   "metadata": {},
   "source": [
    "## IMPORT ALL REQUIRED LIBRARIES\n",
    "This step involves with importing all the required libraries for Lending Club Case Study."
   ]
  },
  {
   "cell_type": "code",
   "execution_count": 155,
   "metadata": {},
   "outputs": [],
   "source": [
    "#   Import all the required Python libraries\n",
    "\n",
    "import numpy as np\n",
    "import pandas as pd\n",
    "\n",
    "import matplotlib.pyplot as plt\n",
    "import seaborn as sns\n",
    "\n",
    "import warnings\n",
    "warnings.filterwarnings('ignore')"
   ]
  },
  {
   "cell_type": "markdown",
   "metadata": {},
   "source": [
    "## SOURCING\n",
    "This step involves fetching the input data/dataset for the case."
   ]
  },
  {
   "cell_type": "code",
   "execution_count": 156,
   "metadata": {},
   "outputs": [
    {
     "data": {
      "text/html": [
       "<div>\n",
       "<style scoped>\n",
       "    .dataframe tbody tr th:only-of-type {\n",
       "        vertical-align: middle;\n",
       "    }\n",
       "\n",
       "    .dataframe tbody tr th {\n",
       "        vertical-align: top;\n",
       "    }\n",
       "\n",
       "    .dataframe thead th {\n",
       "        text-align: right;\n",
       "    }\n",
       "</style>\n",
       "<table border=\"1\" class=\"dataframe\">\n",
       "  <thead>\n",
       "    <tr style=\"text-align: right;\">\n",
       "      <th></th>\n",
       "      <th>id</th>\n",
       "      <th>member_id</th>\n",
       "      <th>loan_amnt</th>\n",
       "      <th>funded_amnt</th>\n",
       "      <th>funded_amnt_inv</th>\n",
       "      <th>term</th>\n",
       "      <th>int_rate</th>\n",
       "      <th>installment</th>\n",
       "      <th>grade</th>\n",
       "      <th>sub_grade</th>\n",
       "      <th>...</th>\n",
       "      <th>num_tl_90g_dpd_24m</th>\n",
       "      <th>num_tl_op_past_12m</th>\n",
       "      <th>pct_tl_nvr_dlq</th>\n",
       "      <th>percent_bc_gt_75</th>\n",
       "      <th>pub_rec_bankruptcies</th>\n",
       "      <th>tax_liens</th>\n",
       "      <th>tot_hi_cred_lim</th>\n",
       "      <th>total_bal_ex_mort</th>\n",
       "      <th>total_bc_limit</th>\n",
       "      <th>total_il_high_credit_limit</th>\n",
       "    </tr>\n",
       "  </thead>\n",
       "  <tbody>\n",
       "    <tr>\n",
       "      <th>0</th>\n",
       "      <td>1077501</td>\n",
       "      <td>1296599</td>\n",
       "      <td>5000</td>\n",
       "      <td>5000</td>\n",
       "      <td>4975.0</td>\n",
       "      <td>36 months</td>\n",
       "      <td>10.65%</td>\n",
       "      <td>162.87</td>\n",
       "      <td>B</td>\n",
       "      <td>B2</td>\n",
       "      <td>...</td>\n",
       "      <td>NaN</td>\n",
       "      <td>NaN</td>\n",
       "      <td>NaN</td>\n",
       "      <td>NaN</td>\n",
       "      <td>0.0</td>\n",
       "      <td>0.0</td>\n",
       "      <td>NaN</td>\n",
       "      <td>NaN</td>\n",
       "      <td>NaN</td>\n",
       "      <td>NaN</td>\n",
       "    </tr>\n",
       "    <tr>\n",
       "      <th>1</th>\n",
       "      <td>1077430</td>\n",
       "      <td>1314167</td>\n",
       "      <td>2500</td>\n",
       "      <td>2500</td>\n",
       "      <td>2500.0</td>\n",
       "      <td>60 months</td>\n",
       "      <td>15.27%</td>\n",
       "      <td>59.83</td>\n",
       "      <td>C</td>\n",
       "      <td>C4</td>\n",
       "      <td>...</td>\n",
       "      <td>NaN</td>\n",
       "      <td>NaN</td>\n",
       "      <td>NaN</td>\n",
       "      <td>NaN</td>\n",
       "      <td>0.0</td>\n",
       "      <td>0.0</td>\n",
       "      <td>NaN</td>\n",
       "      <td>NaN</td>\n",
       "      <td>NaN</td>\n",
       "      <td>NaN</td>\n",
       "    </tr>\n",
       "    <tr>\n",
       "      <th>2</th>\n",
       "      <td>1077175</td>\n",
       "      <td>1313524</td>\n",
       "      <td>2400</td>\n",
       "      <td>2400</td>\n",
       "      <td>2400.0</td>\n",
       "      <td>36 months</td>\n",
       "      <td>15.96%</td>\n",
       "      <td>84.33</td>\n",
       "      <td>C</td>\n",
       "      <td>C5</td>\n",
       "      <td>...</td>\n",
       "      <td>NaN</td>\n",
       "      <td>NaN</td>\n",
       "      <td>NaN</td>\n",
       "      <td>NaN</td>\n",
       "      <td>0.0</td>\n",
       "      <td>0.0</td>\n",
       "      <td>NaN</td>\n",
       "      <td>NaN</td>\n",
       "      <td>NaN</td>\n",
       "      <td>NaN</td>\n",
       "    </tr>\n",
       "    <tr>\n",
       "      <th>3</th>\n",
       "      <td>1076863</td>\n",
       "      <td>1277178</td>\n",
       "      <td>10000</td>\n",
       "      <td>10000</td>\n",
       "      <td>10000.0</td>\n",
       "      <td>36 months</td>\n",
       "      <td>13.49%</td>\n",
       "      <td>339.31</td>\n",
       "      <td>C</td>\n",
       "      <td>C1</td>\n",
       "      <td>...</td>\n",
       "      <td>NaN</td>\n",
       "      <td>NaN</td>\n",
       "      <td>NaN</td>\n",
       "      <td>NaN</td>\n",
       "      <td>0.0</td>\n",
       "      <td>0.0</td>\n",
       "      <td>NaN</td>\n",
       "      <td>NaN</td>\n",
       "      <td>NaN</td>\n",
       "      <td>NaN</td>\n",
       "    </tr>\n",
       "    <tr>\n",
       "      <th>4</th>\n",
       "      <td>1075358</td>\n",
       "      <td>1311748</td>\n",
       "      <td>3000</td>\n",
       "      <td>3000</td>\n",
       "      <td>3000.0</td>\n",
       "      <td>60 months</td>\n",
       "      <td>12.69%</td>\n",
       "      <td>67.79</td>\n",
       "      <td>B</td>\n",
       "      <td>B5</td>\n",
       "      <td>...</td>\n",
       "      <td>NaN</td>\n",
       "      <td>NaN</td>\n",
       "      <td>NaN</td>\n",
       "      <td>NaN</td>\n",
       "      <td>0.0</td>\n",
       "      <td>0.0</td>\n",
       "      <td>NaN</td>\n",
       "      <td>NaN</td>\n",
       "      <td>NaN</td>\n",
       "      <td>NaN</td>\n",
       "    </tr>\n",
       "  </tbody>\n",
       "</table>\n",
       "<p>5 rows × 111 columns</p>\n",
       "</div>"
      ],
      "text/plain": [
       "        id  member_id  loan_amnt  funded_amnt  funded_amnt_inv        term  \\\n",
       "0  1077501    1296599       5000         5000           4975.0   36 months   \n",
       "1  1077430    1314167       2500         2500           2500.0   60 months   \n",
       "2  1077175    1313524       2400         2400           2400.0   36 months   \n",
       "3  1076863    1277178      10000        10000          10000.0   36 months   \n",
       "4  1075358    1311748       3000         3000           3000.0   60 months   \n",
       "\n",
       "  int_rate  installment grade sub_grade  ... num_tl_90g_dpd_24m  \\\n",
       "0   10.65%       162.87     B        B2  ...                NaN   \n",
       "1   15.27%        59.83     C        C4  ...                NaN   \n",
       "2   15.96%        84.33     C        C5  ...                NaN   \n",
       "3   13.49%       339.31     C        C1  ...                NaN   \n",
       "4   12.69%        67.79     B        B5  ...                NaN   \n",
       "\n",
       "  num_tl_op_past_12m pct_tl_nvr_dlq  percent_bc_gt_75 pub_rec_bankruptcies  \\\n",
       "0                NaN            NaN               NaN                  0.0   \n",
       "1                NaN            NaN               NaN                  0.0   \n",
       "2                NaN            NaN               NaN                  0.0   \n",
       "3                NaN            NaN               NaN                  0.0   \n",
       "4                NaN            NaN               NaN                  0.0   \n",
       "\n",
       "  tax_liens tot_hi_cred_lim total_bal_ex_mort total_bc_limit  \\\n",
       "0       0.0             NaN               NaN            NaN   \n",
       "1       0.0             NaN               NaN            NaN   \n",
       "2       0.0             NaN               NaN            NaN   \n",
       "3       0.0             NaN               NaN            NaN   \n",
       "4       0.0             NaN               NaN            NaN   \n",
       "\n",
       "  total_il_high_credit_limit  \n",
       "0                        NaN  \n",
       "1                        NaN  \n",
       "2                        NaN  \n",
       "3                        NaN  \n",
       "4                        NaN  \n",
       "\n",
       "[5 rows x 111 columns]"
      ]
     },
     "execution_count": 156,
     "metadata": {},
     "output_type": "execute_result"
    }
   ],
   "source": [
    "#   Fetch the data from loan.csv file.\n",
    "loanData = pd.read_csv('loan.csv')\n",
    "loanData.head()"
   ]
  },
  {
   "cell_type": "code",
   "execution_count": 157,
   "metadata": {},
   "outputs": [
    {
     "name": "stdout",
     "output_type": "stream",
     "text": [
      "        id  member_id  loan_amnt  funded_amnt  funded_amnt_inv        term  \\\n",
      "0  1077501    1296599       5000         5000           4975.0   36 months   \n",
      "1  1077430    1314167       2500         2500           2500.0   60 months   \n",
      "2  1077175    1313524       2400         2400           2400.0   36 months   \n",
      "3  1076863    1277178      10000        10000          10000.0   36 months   \n",
      "4  1075358    1311748       3000         3000           3000.0   60 months   \n",
      "\n",
      "  int_rate  installment grade sub_grade  ... num_tl_90g_dpd_24m  \\\n",
      "0   10.65%       162.87     B        B2  ...                NaN   \n",
      "1   15.27%        59.83     C        C4  ...                NaN   \n",
      "2   15.96%        84.33     C        C5  ...                NaN   \n",
      "3   13.49%       339.31     C        C1  ...                NaN   \n",
      "4   12.69%        67.79     B        B5  ...                NaN   \n",
      "\n",
      "  num_tl_op_past_12m pct_tl_nvr_dlq  percent_bc_gt_75 pub_rec_bankruptcies  \\\n",
      "0                NaN            NaN               NaN                  0.0   \n",
      "1                NaN            NaN               NaN                  0.0   \n",
      "2                NaN            NaN               NaN                  0.0   \n",
      "3                NaN            NaN               NaN                  0.0   \n",
      "4                NaN            NaN               NaN                  0.0   \n",
      "\n",
      "  tax_liens tot_hi_cred_lim total_bal_ex_mort total_bc_limit  \\\n",
      "0       0.0             NaN               NaN            NaN   \n",
      "1       0.0             NaN               NaN            NaN   \n",
      "2       0.0             NaN               NaN            NaN   \n",
      "3       0.0             NaN               NaN            NaN   \n",
      "4       0.0             NaN               NaN            NaN   \n",
      "\n",
      "  total_il_high_credit_limit  \n",
      "0                        NaN  \n",
      "1                        NaN  \n",
      "2                        NaN  \n",
      "3                        NaN  \n",
      "4                        NaN  \n",
      "\n",
      "[5 rows x 111 columns]\n",
      "        id  member_id  loan_amnt  funded_amnt  funded_amnt_inv        term  \\\n",
      "0  1077501    1296599       5000         5000           4975.0   36 months   \n",
      "1  1077430    1314167       2500         2500           2500.0   60 months   \n",
      "2  1077175    1313524       2400         2400           2400.0   36 months   \n",
      "3  1076863    1277178      10000        10000          10000.0   36 months   \n",
      "4  1075358    1311748       3000         3000           3000.0   60 months   \n",
      "\n",
      "  int_rate  installment grade sub_grade  ... num_tl_90g_dpd_24m  \\\n",
      "0   10.65%       162.87     B        B2  ...                NaN   \n",
      "1   15.27%        59.83     C        C4  ...                NaN   \n",
      "2   15.96%        84.33     C        C5  ...                NaN   \n",
      "3   13.49%       339.31     C        C1  ...                NaN   \n",
      "4   12.69%        67.79     B        B5  ...                NaN   \n",
      "\n",
      "  num_tl_op_past_12m pct_tl_nvr_dlq  percent_bc_gt_75 pub_rec_bankruptcies  \\\n",
      "0                NaN            NaN               NaN                  0.0   \n",
      "1                NaN            NaN               NaN                  0.0   \n",
      "2                NaN            NaN               NaN                  0.0   \n",
      "3                NaN            NaN               NaN                  0.0   \n",
      "4                NaN            NaN               NaN                  0.0   \n",
      "\n",
      "  tax_liens tot_hi_cred_lim total_bal_ex_mort total_bc_limit  \\\n",
      "0       0.0             NaN               NaN            NaN   \n",
      "1       0.0             NaN               NaN            NaN   \n",
      "2       0.0             NaN               NaN            NaN   \n",
      "3       0.0             NaN               NaN            NaN   \n",
      "4       0.0             NaN               NaN            NaN   \n",
      "\n",
      "  total_il_high_credit_limit  \n",
      "0                        NaN  \n",
      "1                        NaN  \n",
      "2                        NaN  \n",
      "3                        NaN  \n",
      "4                        NaN  \n",
      "\n",
      "[5 rows x 111 columns]\n"
     ]
    }
   ],
   "source": [
    "#   Print the file's head() data here.\n",
    "print(loanData.head())\n",
    "#   Print the file's tail() data here.\n",
    "print(loanData.head())"
   ]
  },
  {
   "cell_type": "code",
   "execution_count": 158,
   "metadata": {},
   "outputs": [
    {
     "name": "stdout",
     "output_type": "stream",
     "text": [
      "<class 'pandas.core.frame.DataFrame'>\n",
      "RangeIndex: 39717 entries, 0 to 39716\n",
      "Columns: 111 entries, id to total_il_high_credit_limit\n",
      "dtypes: float64(74), int64(13), object(24)\n",
      "memory usage: 33.6+ MB\n"
     ]
    }
   ],
   "source": [
    "# Lets get further information about the dataset from loan.csv.\n",
    "loanData.info()"
   ]
  },
  {
   "cell_type": "markdown",
   "metadata": {},
   "source": [
    "###   SOURCING Analysis    \n",
    "1. Shape of the dataset --> 39717 rows and 111 columns<br><br>\n",
    "2. Data types scattered in the loan.csv file --> float64(74), int64(13), object(24)<br>\n",
    "-There are __74__ columns with ___Float___ as data type<br>\n",
    "-There are __13__ columns with ___Integers___ as as datatype<br>\n",
    "-There are __24__ columns with ___Object___ as as datatype<br>"
   ]
  },
  {
   "cell_type": "markdown",
   "metadata": {},
   "source": [
    "##   CLEANING\n",
    "This step involves cleaning the input data/dataset for the case, which could create issue for our analysis."
   ]
  },
  {
   "cell_type": "code",
   "execution_count": 159,
   "metadata": {},
   "outputs": [
    {
     "name": "stdout",
     "output_type": "stream",
     "text": [
      "        id  member_id  loan_amnt  funded_amnt  funded_amnt_inv        term  \\\n",
      "0  1077501    1296599       5000         5000           4975.0   36 months   \n",
      "1  1077430    1314167       2500         2500           2500.0   60 months   \n",
      "2  1077175    1313524       2400         2400           2400.0   36 months   \n",
      "3  1076863    1277178      10000        10000          10000.0   36 months   \n",
      "4  1075358    1311748       3000         3000           3000.0   60 months   \n",
      "\n",
      "  int_rate  installment grade sub_grade  ... next_pymnt_d last_credit_pull_d  \\\n",
      "0   10.65%       162.87     B        B2  ...          NaN             May-16   \n",
      "1   15.27%        59.83     C        C4  ...          NaN             Sep-13   \n",
      "2   15.96%        84.33     C        C5  ...          NaN             May-16   \n",
      "3   13.49%       339.31     C        C1  ...          NaN             Apr-16   \n",
      "4   12.69%        67.79     B        B5  ...       Jun-16             May-16   \n",
      "\n",
      "  collections_12_mths_ex_med  policy_code application_type acc_now_delinq  \\\n",
      "0                        0.0            1       INDIVIDUAL              0   \n",
      "1                        0.0            1       INDIVIDUAL              0   \n",
      "2                        0.0            1       INDIVIDUAL              0   \n",
      "3                        0.0            1       INDIVIDUAL              0   \n",
      "4                        0.0            1       INDIVIDUAL              0   \n",
      "\n",
      "  chargeoff_within_12_mths delinq_amnt pub_rec_bankruptcies tax_liens  \n",
      "0                      0.0           0                  0.0       0.0  \n",
      "1                      0.0           0                  0.0       0.0  \n",
      "2                      0.0           0                  0.0       0.0  \n",
      "3                      0.0           0                  0.0       0.0  \n",
      "4                      0.0           0                  0.0       0.0  \n",
      "\n",
      "[5 rows x 57 columns]\n",
      "          id  member_id  loan_amnt  funded_amnt  funded_amnt_inv        term  \\\n",
      "39712  92187      92174       2500         2500           1075.0   36 months   \n",
      "39713  90665      90607       8500         8500            875.0   36 months   \n",
      "39714  90395      90390       5000         5000           1325.0   36 months   \n",
      "39715  90376      89243       5000         5000            650.0   36 months   \n",
      "39716  87023      86999       7500         7500            800.0   36 months   \n",
      "\n",
      "      int_rate  installment grade sub_grade  ... next_pymnt_d  \\\n",
      "39712    8.07%        78.42     A        A4  ...          NaN   \n",
      "39713   10.28%       275.38     C        C1  ...          NaN   \n",
      "39714    8.07%       156.84     A        A4  ...          NaN   \n",
      "39715    7.43%       155.38     A        A2  ...          NaN   \n",
      "39716   13.75%       255.43     E        E2  ...          NaN   \n",
      "\n",
      "      last_credit_pull_d collections_12_mths_ex_med  policy_code  \\\n",
      "39712             Jun-10                        NaN            1   \n",
      "39713             Jul-10                        NaN            1   \n",
      "39714             Jun-07                        NaN            1   \n",
      "39715             Jun-07                        NaN            1   \n",
      "39716             Jun-10                        NaN            1   \n",
      "\n",
      "      application_type acc_now_delinq chargeoff_within_12_mths delinq_amnt  \\\n",
      "39712       INDIVIDUAL              0                      NaN           0   \n",
      "39713       INDIVIDUAL              0                      NaN           0   \n",
      "39714       INDIVIDUAL              0                      NaN           0   \n",
      "39715       INDIVIDUAL              0                      NaN           0   \n",
      "39716       INDIVIDUAL              0                      NaN           0   \n",
      "\n",
      "      pub_rec_bankruptcies tax_liens  \n",
      "39712                  NaN       NaN  \n",
      "39713                  NaN       NaN  \n",
      "39714                  NaN       NaN  \n",
      "39715                  NaN       NaN  \n",
      "39716                  NaN       NaN  \n",
      "\n",
      "[5 rows x 57 columns]\n"
     ]
    }
   ],
   "source": [
    "#   Lets remove the columns with null values \n",
    "loanData = loanData.dropna(axis=1, how='all')\n",
    "print(loanData.head())\n",
    "print(loanData.tail())"
   ]
  },
  {
   "cell_type": "code",
   "execution_count": 160,
   "metadata": {},
   "outputs": [
    {
     "name": "stdout",
     "output_type": "stream",
     "text": [
      "<class 'pandas.core.frame.DataFrame'>\n",
      "RangeIndex: 39717 entries, 0 to 39716\n",
      "Data columns (total 57 columns):\n",
      " #   Column                      Non-Null Count  Dtype  \n",
      "---  ------                      --------------  -----  \n",
      " 0   id                          39717 non-null  int64  \n",
      " 1   member_id                   39717 non-null  int64  \n",
      " 2   loan_amnt                   39717 non-null  int64  \n",
      " 3   funded_amnt                 39717 non-null  int64  \n",
      " 4   funded_amnt_inv             39717 non-null  float64\n",
      " 5   term                        39717 non-null  object \n",
      " 6   int_rate                    39717 non-null  object \n",
      " 7   installment                 39717 non-null  float64\n",
      " 8   grade                       39717 non-null  object \n",
      " 9   sub_grade                   39717 non-null  object \n",
      " 10  emp_title                   37258 non-null  object \n",
      " 11  emp_length                  38642 non-null  object \n",
      " 12  home_ownership              39717 non-null  object \n",
      " 13  annual_inc                  39717 non-null  float64\n",
      " 14  verification_status         39717 non-null  object \n",
      " 15  issue_d                     39717 non-null  object \n",
      " 16  loan_status                 39717 non-null  object \n",
      " 17  pymnt_plan                  39717 non-null  object \n",
      " 18  url                         39717 non-null  object \n",
      " 19  desc                        26775 non-null  object \n",
      " 20  purpose                     39717 non-null  object \n",
      " 21  title                       39706 non-null  object \n",
      " 22  zip_code                    39717 non-null  object \n",
      " 23  addr_state                  39717 non-null  object \n",
      " 24  dti                         39717 non-null  float64\n",
      " 25  delinq_2yrs                 39717 non-null  int64  \n",
      " 26  earliest_cr_line            39717 non-null  object \n",
      " 27  inq_last_6mths              39717 non-null  int64  \n",
      " 28  mths_since_last_delinq      14035 non-null  float64\n",
      " 29  mths_since_last_record      2786 non-null   float64\n",
      " 30  open_acc                    39717 non-null  int64  \n",
      " 31  pub_rec                     39717 non-null  int64  \n",
      " 32  revol_bal                   39717 non-null  int64  \n",
      " 33  revol_util                  39667 non-null  object \n",
      " 34  total_acc                   39717 non-null  int64  \n",
      " 35  initial_list_status         39717 non-null  object \n",
      " 36  out_prncp                   39717 non-null  float64\n",
      " 37  out_prncp_inv               39717 non-null  float64\n",
      " 38  total_pymnt                 39717 non-null  float64\n",
      " 39  total_pymnt_inv             39717 non-null  float64\n",
      " 40  total_rec_prncp             39717 non-null  float64\n",
      " 41  total_rec_int               39717 non-null  float64\n",
      " 42  total_rec_late_fee          39717 non-null  float64\n",
      " 43  recoveries                  39717 non-null  float64\n",
      " 44  collection_recovery_fee     39717 non-null  float64\n",
      " 45  last_pymnt_d                39646 non-null  object \n",
      " 46  last_pymnt_amnt             39717 non-null  float64\n",
      " 47  next_pymnt_d                1140 non-null   object \n",
      " 48  last_credit_pull_d          39715 non-null  object \n",
      " 49  collections_12_mths_ex_med  39661 non-null  float64\n",
      " 50  policy_code                 39717 non-null  int64  \n",
      " 51  application_type            39717 non-null  object \n",
      " 52  acc_now_delinq              39717 non-null  int64  \n",
      " 53  chargeoff_within_12_mths    39661 non-null  float64\n",
      " 54  delinq_amnt                 39717 non-null  int64  \n",
      " 55  pub_rec_bankruptcies        39020 non-null  float64\n",
      " 56  tax_liens                   39678 non-null  float64\n",
      "dtypes: float64(20), int64(13), object(24)\n",
      "memory usage: 17.3+ MB\n"
     ]
    }
   ],
   "source": [
    "#   Check the shape of the information of newly saved dataframe\n",
    "loanData.info()"
   ]
  },
  {
   "cell_type": "code",
   "execution_count": 161,
   "metadata": {},
   "outputs": [
    {
     "data": {
      "text/html": [
       "<div>\n",
       "<style scoped>\n",
       "    .dataframe tbody tr th:only-of-type {\n",
       "        vertical-align: middle;\n",
       "    }\n",
       "\n",
       "    .dataframe tbody tr th {\n",
       "        vertical-align: top;\n",
       "    }\n",
       "\n",
       "    .dataframe thead th {\n",
       "        text-align: right;\n",
       "    }\n",
       "</style>\n",
       "<table border=\"1\" class=\"dataframe\">\n",
       "  <thead>\n",
       "    <tr style=\"text-align: right;\">\n",
       "      <th></th>\n",
       "      <th>id</th>\n",
       "      <th>member_id</th>\n",
       "      <th>loan_amnt</th>\n",
       "      <th>funded_amnt</th>\n",
       "      <th>funded_amnt_inv</th>\n",
       "      <th>term</th>\n",
       "      <th>int_rate</th>\n",
       "      <th>installment</th>\n",
       "      <th>grade</th>\n",
       "      <th>sub_grade</th>\n",
       "      <th>...</th>\n",
       "      <th>next_pymnt_d</th>\n",
       "      <th>last_credit_pull_d</th>\n",
       "      <th>collections_12_mths_ex_med</th>\n",
       "      <th>policy_code</th>\n",
       "      <th>application_type</th>\n",
       "      <th>acc_now_delinq</th>\n",
       "      <th>chargeoff_within_12_mths</th>\n",
       "      <th>delinq_amnt</th>\n",
       "      <th>pub_rec_bankruptcies</th>\n",
       "      <th>tax_liens</th>\n",
       "    </tr>\n",
       "  </thead>\n",
       "  <tbody>\n",
       "  </tbody>\n",
       "</table>\n",
       "<p>0 rows × 57 columns</p>\n",
       "</div>"
      ],
      "text/plain": [
       "Empty DataFrame\n",
       "Columns: [id, member_id, loan_amnt, funded_amnt, funded_amnt_inv, term, int_rate, installment, grade, sub_grade, emp_title, emp_length, home_ownership, annual_inc, verification_status, issue_d, loan_status, pymnt_plan, url, desc, purpose, title, zip_code, addr_state, dti, delinq_2yrs, earliest_cr_line, inq_last_6mths, mths_since_last_delinq, mths_since_last_record, open_acc, pub_rec, revol_bal, revol_util, total_acc, initial_list_status, out_prncp, out_prncp_inv, total_pymnt, total_pymnt_inv, total_rec_prncp, total_rec_int, total_rec_late_fee, recoveries, collection_recovery_fee, last_pymnt_d, last_pymnt_amnt, next_pymnt_d, last_credit_pull_d, collections_12_mths_ex_med, policy_code, application_type, acc_now_delinq, chargeoff_within_12_mths, delinq_amnt, pub_rec_bankruptcies, tax_liens]\n",
       "Index: []\n",
       "\n",
       "[0 rows x 57 columns]"
      ]
     },
     "execution_count": 161,
     "metadata": {},
     "output_type": "execute_result"
    }
   ],
   "source": [
    "#   Remove all the duplicate items if there are any based on 'id' column \n",
    "\n",
    "#   Get the list of ids where only 1 id is taken if multiple found. \n",
    "loanData.duplicated(subset=None, keep='first').count()\n",
    "#   Print the duplicate columns \n",
    "loanData[loanData.duplicated(['id'])]"
   ]
  },
  {
   "cell_type": "code",
   "execution_count": 162,
   "metadata": {},
   "outputs": [
    {
     "name": "stdout",
     "output_type": "stream",
     "text": [
      "Before running the logic to check for columns with only single value, dataframe shape is - (39717, 57)\n",
      "After running the logic to check for columns with only single value, dataframe shape is - (39717, 51)\n",
      "        id  member_id  loan_amnt  funded_amnt  funded_amnt_inv        term  \\\n",
      "0  1077501    1296599       5000         5000           4975.0   36 months   \n",
      "1  1077430    1314167       2500         2500           2500.0   60 months   \n",
      "2  1077175    1313524       2400         2400           2400.0   36 months   \n",
      "3  1076863    1277178      10000        10000          10000.0   36 months   \n",
      "4  1075358    1311748       3000         3000           3000.0   60 months   \n",
      "\n",
      "  int_rate  installment grade sub_grade  ... recoveries  \\\n",
      "0   10.65%       162.87     B        B2  ...       0.00   \n",
      "1   15.27%        59.83     C        C4  ...     117.08   \n",
      "2   15.96%        84.33     C        C5  ...       0.00   \n",
      "3   13.49%       339.31     C        C1  ...       0.00   \n",
      "4   12.69%        67.79     B        B5  ...       0.00   \n",
      "\n",
      "  collection_recovery_fee last_pymnt_d  last_pymnt_amnt next_pymnt_d  \\\n",
      "0                    0.00       Jan-15           171.62          NaN   \n",
      "1                    1.11       Apr-13           119.66          NaN   \n",
      "2                    0.00       Jun-14           649.91          NaN   \n",
      "3                    0.00       Jan-15           357.48          NaN   \n",
      "4                    0.00       May-16            67.79       Jun-16   \n",
      "\n",
      "  last_credit_pull_d collections_12_mths_ex_med chargeoff_within_12_mths  \\\n",
      "0             May-16                        0.0                      0.0   \n",
      "1             Sep-13                        0.0                      0.0   \n",
      "2             May-16                        0.0                      0.0   \n",
      "3             Apr-16                        0.0                      0.0   \n",
      "4             May-16                        0.0                      0.0   \n",
      "\n",
      "  pub_rec_bankruptcies tax_liens  \n",
      "0                  0.0       0.0  \n",
      "1                  0.0       0.0  \n",
      "2                  0.0       0.0  \n",
      "3                  0.0       0.0  \n",
      "4                  0.0       0.0  \n",
      "\n",
      "[5 rows x 51 columns]\n",
      "          id  member_id  loan_amnt  funded_amnt  funded_amnt_inv        term  \\\n",
      "39712  92187      92174       2500         2500           1075.0   36 months   \n",
      "39713  90665      90607       8500         8500            875.0   36 months   \n",
      "39714  90395      90390       5000         5000           1325.0   36 months   \n",
      "39715  90376      89243       5000         5000            650.0   36 months   \n",
      "39716  87023      86999       7500         7500            800.0   36 months   \n",
      "\n",
      "      int_rate  installment grade sub_grade  ... recoveries  \\\n",
      "39712    8.07%        78.42     A        A4  ...        0.0   \n",
      "39713   10.28%       275.38     C        C1  ...        0.0   \n",
      "39714    8.07%       156.84     A        A4  ...        0.0   \n",
      "39715    7.43%       155.38     A        A2  ...        0.0   \n",
      "39716   13.75%       255.43     E        E2  ...        0.0   \n",
      "\n",
      "      collection_recovery_fee last_pymnt_d  last_pymnt_amnt next_pymnt_d  \\\n",
      "39712                     0.0       Jul-10            80.90          NaN   \n",
      "39713                     0.0       Jul-10           281.94          NaN   \n",
      "39714                     0.0       Apr-08             0.00          NaN   \n",
      "39715                     0.0       Jan-08             0.00          NaN   \n",
      "39716                     0.0       Jun-10           256.59          NaN   \n",
      "\n",
      "      last_credit_pull_d collections_12_mths_ex_med chargeoff_within_12_mths  \\\n",
      "39712             Jun-10                        NaN                      NaN   \n",
      "39713             Jul-10                        NaN                      NaN   \n",
      "39714             Jun-07                        NaN                      NaN   \n",
      "39715             Jun-07                        NaN                      NaN   \n",
      "39716             Jun-10                        NaN                      NaN   \n",
      "\n",
      "      pub_rec_bankruptcies tax_liens  \n",
      "39712                  NaN       NaN  \n",
      "39713                  NaN       NaN  \n",
      "39714                  NaN       NaN  \n",
      "39715                  NaN       NaN  \n",
      "39716                  NaN       NaN  \n",
      "\n",
      "[5 rows x 51 columns]\n"
     ]
    }
   ],
   "source": [
    "#   Lets Fetch further columns with only single values in all the rows. If found, removing them as these wont be able to help in our analysis\n",
    "\n",
    "#   fetch all column names\n",
    "col_list = np.array(loanData.columns.tolist())\n",
    "col_list\n",
    "\n",
    "#   Print the shape of dataframe before droping the columns with 1 value\n",
    "print(\"Before running the logic to check for columns with only single value, dataframe shape is - \"+str(loanData.shape))\n",
    "#   code to loop all the columns, if the count of unique values in a column is 1, remove the column\n",
    "for i in col_list:\n",
    "    if len(loanData[str(i)].unique()) == 1:\n",
    "        loanData = loanData.drop([str(i)], axis=1)\n",
    "\n",
    "#   Print the shape of dataframe before droping the columns with 1 value\n",
    "print(\"After running the logic to check for columns with only single value, dataframe shape is - \"+str(loanData.shape))\n",
    "\n",
    "print(loanData.head())\n",
    "print(loanData.tail())"
   ]
  },
  {
   "cell_type": "code",
   "execution_count": 163,
   "metadata": {},
   "outputs": [
    {
     "name": "stdout",
     "output_type": "stream",
     "text": [
      "Before running the logic to check for columns with null value, dataframe shape is - (39717, 51)\n",
      "After running the logic to check for columns with null value, dataframe shape is - (39717, 47)\n",
      "        id  member_id  loan_amnt  funded_amnt  funded_amnt_inv        term  \\\n",
      "0  1077501    1296599       5000         5000           4975.0   36 months   \n",
      "1  1077430    1314167       2500         2500           2500.0   60 months   \n",
      "2  1077175    1313524       2400         2400           2400.0   36 months   \n",
      "3  1076863    1277178      10000        10000          10000.0   36 months   \n",
      "4  1075358    1311748       3000         3000           3000.0   60 months   \n",
      "\n",
      "  int_rate  installment grade sub_grade  ... total_rec_late_fee recoveries  \\\n",
      "0   10.65%       162.87     B        B2  ...               0.00       0.00   \n",
      "1   15.27%        59.83     C        C4  ...               0.00     117.08   \n",
      "2   15.96%        84.33     C        C5  ...               0.00       0.00   \n",
      "3   13.49%       339.31     C        C1  ...              16.97       0.00   \n",
      "4   12.69%        67.79     B        B5  ...               0.00       0.00   \n",
      "\n",
      "  collection_recovery_fee  last_pymnt_d last_pymnt_amnt last_credit_pull_d  \\\n",
      "0                    0.00        Jan-15          171.62             May-16   \n",
      "1                    1.11        Apr-13          119.66             Sep-13   \n",
      "2                    0.00        Jun-14          649.91             May-16   \n",
      "3                    0.00        Jan-15          357.48             Apr-16   \n",
      "4                    0.00        May-16           67.79             May-16   \n",
      "\n",
      "  collections_12_mths_ex_med chargeoff_within_12_mths pub_rec_bankruptcies  \\\n",
      "0                        0.0                      0.0                  0.0   \n",
      "1                        0.0                      0.0                  0.0   \n",
      "2                        0.0                      0.0                  0.0   \n",
      "3                        0.0                      0.0                  0.0   \n",
      "4                        0.0                      0.0                  0.0   \n",
      "\n",
      "  tax_liens  \n",
      "0       0.0  \n",
      "1       0.0  \n",
      "2       0.0  \n",
      "3       0.0  \n",
      "4       0.0  \n",
      "\n",
      "[5 rows x 47 columns]\n",
      "          id  member_id  loan_amnt  funded_amnt  funded_amnt_inv        term  \\\n",
      "39712  92187      92174       2500         2500           1075.0   36 months   \n",
      "39713  90665      90607       8500         8500            875.0   36 months   \n",
      "39714  90395      90390       5000         5000           1325.0   36 months   \n",
      "39715  90376      89243       5000         5000            650.0   36 months   \n",
      "39716  87023      86999       7500         7500            800.0   36 months   \n",
      "\n",
      "      int_rate  installment grade sub_grade  ... total_rec_late_fee  \\\n",
      "39712    8.07%        78.42     A        A4  ...                0.0   \n",
      "39713   10.28%       275.38     C        C1  ...                0.0   \n",
      "39714    8.07%       156.84     A        A4  ...                0.0   \n",
      "39715    7.43%       155.38     A        A2  ...                0.0   \n",
      "39716   13.75%       255.43     E        E2  ...                0.0   \n",
      "\n",
      "      recoveries collection_recovery_fee  last_pymnt_d last_pymnt_amnt  \\\n",
      "39712        0.0                     0.0        Jul-10           80.90   \n",
      "39713        0.0                     0.0        Jul-10          281.94   \n",
      "39714        0.0                     0.0        Apr-08            0.00   \n",
      "39715        0.0                     0.0        Jan-08            0.00   \n",
      "39716        0.0                     0.0        Jun-10          256.59   \n",
      "\n",
      "      last_credit_pull_d collections_12_mths_ex_med chargeoff_within_12_mths  \\\n",
      "39712             Jun-10                        NaN                      NaN   \n",
      "39713             Jul-10                        NaN                      NaN   \n",
      "39714             Jun-07                        NaN                      NaN   \n",
      "39715             Jun-07                        NaN                      NaN   \n",
      "39716             Jun-10                        NaN                      NaN   \n",
      "\n",
      "      pub_rec_bankruptcies tax_liens  \n",
      "39712                  NaN       NaN  \n",
      "39713                  NaN       NaN  \n",
      "39714                  NaN       NaN  \n",
      "39715                  NaN       NaN  \n",
      "39716                  NaN       NaN  \n",
      "\n",
      "[5 rows x 47 columns]\n"
     ]
    }
   ],
   "source": [
    "#   Lets Fetch further null details about all the columns of the dataset loan.csv. Furthermore, drop columns where null value percentage in a column is more than 20% \n",
    "loanData.isnull().sum()\n",
    "\n",
    "#   Print the shape of dataframe before droping the columns with null value percentage > 20%\n",
    "print(\"Before running the logic to check for columns with null value, dataframe shape is - \"+str(loanData.shape))\n",
    "\n",
    "#   Store column names with null value in variable\n",
    "NullValCols = np.array(loanData.columns[loanData.isnull().any()].tolist())\n",
    "#print(\"Total Column count with null values - \"+str(len(NullValCols)) )\n",
    "\n",
    "for i in NullValCols:\n",
    "    #print(\"Column Name - \"+str(i)+\", Count of null values in this column - \"+str(loanData[str(i)].isnull().sum()))\n",
    "    #print(\"Column Name - \"+str(i)+\", Percentage of null values in this column - \"+str(round((loanData[str(i)].isnull().sum()/len(loanData))*100,2)))\n",
    "    #remove the columns with null value percentage > 20\n",
    "    if round((loanData[str(i)].isnull().sum()/len(loanData))*100,2)>20:\n",
    "        loanData = loanData.drop([str(i)], axis=1)\n",
    "\n",
    "#   Print the shape of dataframe after droping the columns with null value percentage > 20%\n",
    "print(\"After running the logic to check for columns with null value, dataframe shape is - \"+str(loanData.shape))\n",
    "\n",
    "print(loanData.head())\n",
    "print(loanData.tail())"
   ]
  },
  {
   "cell_type": "code",
   "execution_count": 164,
   "metadata": {},
   "outputs": [
    {
     "name": "stdout",
     "output_type": "stream",
     "text": [
      "['id' 'member_id' 'loan_amnt' 'funded_amnt' 'funded_amnt_inv' 'term'\n",
      " 'int_rate' 'installment' 'grade' 'sub_grade' 'emp_title' 'emp_length'\n",
      " 'home_ownership' 'annual_inc' 'verification_status' 'issue_d'\n",
      " 'loan_status' 'url' 'purpose' 'title' 'zip_code' 'addr_state' 'dti'\n",
      " 'delinq_2yrs' 'earliest_cr_line' 'inq_last_6mths' 'open_acc' 'pub_rec'\n",
      " 'revol_bal' 'revol_util' 'total_acc' 'out_prncp' 'out_prncp_inv'\n",
      " 'total_pymnt' 'total_pymnt_inv' 'total_rec_prncp' 'total_rec_int'\n",
      " 'total_rec_late_fee' 'recoveries' 'collection_recovery_fee'\n",
      " 'last_pymnt_d' 'last_pymnt_amnt' 'last_credit_pull_d'\n",
      " 'collections_12_mths_ex_med' 'chargeoff_within_12_mths'\n",
      " 'pub_rec_bankruptcies' 'tax_liens']\n"
     ]
    }
   ],
   "source": [
    "#fetching the data for these columns \n",
    "col_list = np.array(loanData.columns.tolist())\n",
    "print(col_list)"
   ]
  },
  {
   "cell_type": "code",
   "execution_count": 165,
   "metadata": {},
   "outputs": [
    {
     "name": "stdout",
     "output_type": "stream",
     "text": [
      "Before running the logic to check id/membership_id columns with all unique value, dataframe shape is - (39717, 47)\n",
      "After running the logic to check id/membership_id columns with all unique value, dataframe shape is - (39717, 45)\n",
      "   loan_amnt  funded_amnt  funded_amnt_inv        term int_rate  installment  \\\n",
      "0       5000         5000           4975.0   36 months   10.65%       162.87   \n",
      "1       2500         2500           2500.0   60 months   15.27%        59.83   \n",
      "2       2400         2400           2400.0   36 months   15.96%        84.33   \n",
      "3      10000        10000          10000.0   36 months   13.49%       339.31   \n",
      "4       3000         3000           3000.0   60 months   12.69%        67.79   \n",
      "\n",
      "  grade sub_grade                 emp_title emp_length  ...  \\\n",
      "0     B        B2                       NaN  10+ years  ...   \n",
      "1     C        C4                     Ryder   < 1 year  ...   \n",
      "2     C        C5                       NaN  10+ years  ...   \n",
      "3     C        C1       AIR RESOURCES BOARD  10+ years  ...   \n",
      "4     B        B5  University Medical Group     1 year  ...   \n",
      "\n",
      "  total_rec_late_fee  recoveries collection_recovery_fee last_pymnt_d  \\\n",
      "0               0.00        0.00                    0.00       Jan-15   \n",
      "1               0.00      117.08                    1.11       Apr-13   \n",
      "2               0.00        0.00                    0.00       Jun-14   \n",
      "3              16.97        0.00                    0.00       Jan-15   \n",
      "4               0.00        0.00                    0.00       May-16   \n",
      "\n",
      "  last_pymnt_amnt last_credit_pull_d collections_12_mths_ex_med  \\\n",
      "0          171.62             May-16                        0.0   \n",
      "1          119.66             Sep-13                        0.0   \n",
      "2          649.91             May-16                        0.0   \n",
      "3          357.48             Apr-16                        0.0   \n",
      "4           67.79             May-16                        0.0   \n",
      "\n",
      "  chargeoff_within_12_mths pub_rec_bankruptcies tax_liens  \n",
      "0                      0.0                  0.0       0.0  \n",
      "1                      0.0                  0.0       0.0  \n",
      "2                      0.0                  0.0       0.0  \n",
      "3                      0.0                  0.0       0.0  \n",
      "4                      0.0                  0.0       0.0  \n",
      "\n",
      "[5 rows x 45 columns]\n",
      "       loan_amnt  funded_amnt  funded_amnt_inv        term int_rate  \\\n",
      "39712       2500         2500           1075.0   36 months    8.07%   \n",
      "39713       8500         8500            875.0   36 months   10.28%   \n",
      "39714       5000         5000           1325.0   36 months    8.07%   \n",
      "39715       5000         5000            650.0   36 months    7.43%   \n",
      "39716       7500         7500            800.0   36 months   13.75%   \n",
      "\n",
      "       installment grade sub_grade                   emp_title emp_length  \\\n",
      "39712        78.42     A        A4             FiSite Research    4 years   \n",
      "39713       275.38     C        C1  Squarewave Solutions, Ltd.    3 years   \n",
      "39714       156.84     A        A4                         NaN   < 1 year   \n",
      "39715       155.38     A        A2                         NaN   < 1 year   \n",
      "39716       255.43     E        E2            Evergreen Center   < 1 year   \n",
      "\n",
      "       ... total_rec_late_fee  recoveries collection_recovery_fee  \\\n",
      "39712  ...                0.0         0.0                     0.0   \n",
      "39713  ...                0.0         0.0                     0.0   \n",
      "39714  ...                0.0         0.0                     0.0   \n",
      "39715  ...                0.0         0.0                     0.0   \n",
      "39716  ...                0.0         0.0                     0.0   \n",
      "\n",
      "      last_pymnt_d last_pymnt_amnt last_credit_pull_d  \\\n",
      "39712       Jul-10           80.90             Jun-10   \n",
      "39713       Jul-10          281.94             Jul-10   \n",
      "39714       Apr-08            0.00             Jun-07   \n",
      "39715       Jan-08            0.00             Jun-07   \n",
      "39716       Jun-10          256.59             Jun-10   \n",
      "\n",
      "      collections_12_mths_ex_med chargeoff_within_12_mths  \\\n",
      "39712                        NaN                      NaN   \n",
      "39713                        NaN                      NaN   \n",
      "39714                        NaN                      NaN   \n",
      "39715                        NaN                      NaN   \n",
      "39716                        NaN                      NaN   \n",
      "\n",
      "      pub_rec_bankruptcies tax_liens  \n",
      "39712                  NaN       NaN  \n",
      "39713                  NaN       NaN  \n",
      "39714                  NaN       NaN  \n",
      "39715                  NaN       NaN  \n",
      "39716                  NaN       NaN  \n",
      "\n",
      "[5 rows x 45 columns]\n"
     ]
    }
   ],
   "source": [
    "#   Check if all id's and  and membership id's are unique value, if so, we can remove them as they won't help analysis\n",
    "\n",
    "#   Print the shape of dataframe before checking the id/membership_id column\n",
    "print(\"Before running the logic to check id/membership_id columns with all unique value, dataframe shape is - \"+str(loanData.shape))\n",
    "\n",
    "if len(loanData)==len(loanData['id'].unique()):\n",
    "    loanData = loanData.drop(['id'], axis=1)\n",
    "\n",
    "if len(loanData)==len(loanData['member_id'].unique()):\n",
    "    loanData = loanData.drop(['member_id'], axis=1)\n",
    "\n",
    "#   Print the shape of dataframe after checking the id/membership_id column\n",
    "print(\"After running the logic to check id/membership_id columns with all unique value, dataframe shape is - \"+str(loanData.shape))\n",
    "\n",
    "print(loanData.head())\n",
    "print(loanData.tail())"
   ]
  },
  {
   "cell_type": "code",
   "execution_count": 166,
   "metadata": {},
   "outputs": [
    {
     "name": "stdout",
     "output_type": "stream",
     "text": [
      "Before removing the columns which are not required, dataframe shape is - (39717, 45)\n",
      "After removing the columns which are not required, dataframe shape is - (39717, 23)\n",
      "   loan_amnt  funded_amnt        term int_rate  installment grade sub_grade  \\\n",
      "0       5000         5000   36 months   10.65%       162.87     B        B2   \n",
      "1       2500         2500   60 months   15.27%        59.83     C        C4   \n",
      "2       2400         2400   36 months   15.96%        84.33     C        C5   \n",
      "3      10000        10000   36 months   13.49%       339.31     C        C1   \n",
      "4       3000         3000   60 months   12.69%        67.79     B        B5   \n",
      "\n",
      "  emp_length home_ownership  annual_inc  ...         purpose zip_code  \\\n",
      "0  10+ years           RENT     24000.0  ...     credit_card    860xx   \n",
      "1   < 1 year           RENT     30000.0  ...             car    309xx   \n",
      "2  10+ years           RENT     12252.0  ...  small_business    606xx   \n",
      "3  10+ years           RENT     49200.0  ...           other    917xx   \n",
      "4     1 year           RENT     80000.0  ...           other    972xx   \n",
      "\n",
      "  addr_state    dti delinq_2yrs inq_last_6mths  open_acc  pub_rec  total_acc  \\\n",
      "0         AZ  27.65           0              1         3        0          9   \n",
      "1         GA   1.00           0              5         3        0          4   \n",
      "2         IL   8.72           0              2         2        0         10   \n",
      "3         CA  20.00           0              1        10        0         37   \n",
      "4         OR  17.94           0              0        15        0         38   \n",
      "\n",
      "   pub_rec_bankruptcies  \n",
      "0                   0.0  \n",
      "1                   0.0  \n",
      "2                   0.0  \n",
      "3                   0.0  \n",
      "4                   0.0  \n",
      "\n",
      "[5 rows x 23 columns]\n",
      "       loan_amnt  funded_amnt        term int_rate  installment grade  \\\n",
      "39712       2500         2500   36 months    8.07%        78.42     A   \n",
      "39713       8500         8500   36 months   10.28%       275.38     C   \n",
      "39714       5000         5000   36 months    8.07%       156.84     A   \n",
      "39715       5000         5000   36 months    7.43%       155.38     A   \n",
      "39716       7500         7500   36 months   13.75%       255.43     E   \n",
      "\n",
      "      sub_grade emp_length home_ownership  annual_inc  ...  \\\n",
      "39712        A4    4 years       MORTGAGE    110000.0  ...   \n",
      "39713        C1    3 years           RENT     18000.0  ...   \n",
      "39714        A4   < 1 year       MORTGAGE    100000.0  ...   \n",
      "39715        A2   < 1 year       MORTGAGE    200000.0  ...   \n",
      "39716        E2   < 1 year            OWN     22000.0  ...   \n",
      "\n",
      "                  purpose zip_code addr_state    dti delinq_2yrs  \\\n",
      "39712    home_improvement    802xx         CO  11.33           0   \n",
      "39713         credit_card    274xx         NC   6.40           1   \n",
      "39714  debt_consolidation    017xx         MA   2.30           0   \n",
      "39715               other    208xx         MD   3.72           0   \n",
      "39716  debt_consolidation    027xx         MA  14.29           1   \n",
      "\n",
      "      inq_last_6mths  open_acc  pub_rec  total_acc  pub_rec_bankruptcies  \n",
      "39712              0        13        0         40                   NaN  \n",
      "39713              1         6        0          9                   NaN  \n",
      "39714              0        11        0         20                   NaN  \n",
      "39715              0        17        0         26                   NaN  \n",
      "39716              0         7        0          8                   NaN  \n",
      "\n",
      "[5 rows x 23 columns]\n"
     ]
    }
   ],
   "source": [
    "#   Dropping list of columns which are not required/ helpful for our analysis\n",
    "\n",
    "#   Print the shape of dataframe before removing the columns which are not required\n",
    "print(\"Before removing the columns which are not required, dataframe shape is - \"+str(loanData.shape))\n",
    "\n",
    "loanData = loanData.drop(['funded_amnt_inv', 'url', 'emp_title', 'title', 'chargeoff_within_12_mths', 'tax_liens', 'collections_12_mths_ex_med', 'out_prncp_inv', 'total_pymnt_inv', 'earliest_cr_line', 'out_prncp', 'total_rec_prncp', 'total_rec_int', 'total_rec_late_fee', 'collection_recovery_fee', 'last_pymnt_d', 'last_pymnt_amnt', 'last_credit_pull_d', 'revol_util','revol_bal', 'total_pymnt', 'recoveries'],axis=1)\n",
    "\n",
    "#   Print the shape of dataframe after removing the columns which are not required\n",
    "print(\"After removing the columns which are not required, dataframe shape is - \"+str(loanData.shape))\n",
    "\n",
    "print(loanData.head())\n",
    "print(loanData.tail())"
   ]
  },
  {
   "cell_type": "code",
   "execution_count": 167,
   "metadata": {},
   "outputs": [
    {
     "name": "stdout",
     "output_type": "stream",
     "text": [
      "<class 'pandas.core.frame.DataFrame'>\n",
      "RangeIndex: 39717 entries, 0 to 39716\n",
      "Data columns (total 23 columns):\n",
      " #   Column                Non-Null Count  Dtype  \n",
      "---  ------                --------------  -----  \n",
      " 0   loan_amnt             39717 non-null  int64  \n",
      " 1   funded_amnt           39717 non-null  int64  \n",
      " 2   term                  39717 non-null  object \n",
      " 3   int_rate              39717 non-null  object \n",
      " 4   installment           39717 non-null  float64\n",
      " 5   grade                 39717 non-null  object \n",
      " 6   sub_grade             39717 non-null  object \n",
      " 7   emp_length            38642 non-null  object \n",
      " 8   home_ownership        39717 non-null  object \n",
      " 9   annual_inc            39717 non-null  float64\n",
      " 10  verification_status   39717 non-null  object \n",
      " 11  issue_d               39717 non-null  object \n",
      " 12  loan_status           39717 non-null  object \n",
      " 13  purpose               39717 non-null  object \n",
      " 14  zip_code              39717 non-null  object \n",
      " 15  addr_state            39717 non-null  object \n",
      " 16  dti                   39717 non-null  float64\n",
      " 17  delinq_2yrs           39717 non-null  int64  \n",
      " 18  inq_last_6mths        39717 non-null  int64  \n",
      " 19  open_acc              39717 non-null  int64  \n",
      " 20  pub_rec               39717 non-null  int64  \n",
      " 21  total_acc             39717 non-null  int64  \n",
      " 22  pub_rec_bankruptcies  39020 non-null  float64\n",
      "dtypes: float64(4), int64(7), object(12)\n",
      "memory usage: 7.0+ MB\n"
     ]
    },
    {
     "data": {
      "text/plain": [
       "loan_amnt                  0\n",
       "funded_amnt                0\n",
       "term                       0\n",
       "int_rate                   0\n",
       "installment                0\n",
       "grade                      0\n",
       "sub_grade                  0\n",
       "emp_length              1075\n",
       "home_ownership             0\n",
       "annual_inc                 0\n",
       "verification_status        0\n",
       "issue_d                    0\n",
       "loan_status                0\n",
       "purpose                    0\n",
       "zip_code                   0\n",
       "addr_state                 0\n",
       "dti                        0\n",
       "delinq_2yrs                0\n",
       "inq_last_6mths             0\n",
       "open_acc                   0\n",
       "pub_rec                    0\n",
       "total_acc                  0\n",
       "pub_rec_bankruptcies     697\n",
       "dtype: int64"
      ]
     },
     "execution_count": 167,
     "metadata": {},
     "output_type": "execute_result"
    }
   ],
   "source": [
    "# Further remove the Null values\n",
    "loanData.info()\n",
    "\n",
    "loanData.isnull().sum()"
   ]
  },
  {
   "cell_type": "code",
   "execution_count": 168,
   "metadata": {},
   "outputs": [
    {
     "name": "stdout",
     "output_type": "stream",
     "text": [
      "emp_length\n",
      "1075\n",
      "pub_rec_bankruptcies\n",
      "697\n"
     ]
    }
   ],
   "source": [
    "#   There seems to be 2 columns with null values, lets get these columns \n",
    "NullValCols = np.array(loanData.columns[loanData.isnull().any()].tolist())\n",
    "for i in NullValCols:\n",
    "\t\t\t\t\tprint(str(i))\n",
    "\t\t\t\t\tprint(loanData[str(i)].isnull().sum())\n"
   ]
  },
  {
   "cell_type": "code",
   "execution_count": 169,
   "metadata": {},
   "outputs": [
    {
     "name": "stdout",
     "output_type": "stream",
     "text": [
      "Mode for the column : 10+ years\n"
     ]
    },
    {
     "data": {
      "text/plain": [
       "0"
      ]
     },
     "execution_count": 169,
     "metadata": {},
     "output_type": "execute_result"
    }
   ],
   "source": [
    "#   Lets Check the emp_length data\n",
    "print(\"Mode for the column : \" + loanData.emp_length.mode()[0])\n",
    "loanData.emp_length.value_counts()\n",
    "\n",
    "#   As we can see the max data is in 10+ Years.Additionally, we can see the count of mode is around twice the next best count.  This define that we can use the mode value instead of null values safely.\n",
    "loanData.emp_length.fillna(loanData.emp_length.mode()[0], inplace = True)\n",
    "loanData.emp_length.isna().sum()"
   ]
  },
  {
   "cell_type": "code",
   "execution_count": 170,
   "metadata": {},
   "outputs": [
    {
     "name": "stdout",
     "output_type": "stream",
     "text": [
      "Mode for this column : 0    0.0\n",
      "Name: pub_rec_bankruptcies, dtype: float64\n"
     ]
    },
    {
     "data": {
      "text/plain": [
       "0"
      ]
     },
     "execution_count": 170,
     "metadata": {},
     "output_type": "execute_result"
    }
   ],
   "source": [
    "#   As number of count of null values in pub_rec_bankruptcies, Lets check it further and solve the null value issue\n",
    "print(\"Mode for this column : \"+str(loanData.pub_rec_bankruptcies.mode()))\n",
    "loanData.pub_rec_bankruptcies.value_counts()\n",
    "\n",
    "#   As we can see the maximum data in column is 0.0, which has a count 22times more than next best item, so increasing the 0.0 could cause further negation to percentage in coulmn if we push the null values to 0.0[Mode].\n",
    "#   So we will remove these 697 null values\n",
    "loanData.dropna(axis = 0, subset = ['pub_rec_bankruptcies'] , inplace = True)\n",
    "loanData.pub_rec_bankruptcies.isna().sum()"
   ]
  },
  {
   "cell_type": "code",
   "execution_count": 171,
   "metadata": {},
   "outputs": [
    {
     "data": {
      "text/plain": [
       "loan_amnt               0\n",
       "funded_amnt             0\n",
       "term                    0\n",
       "int_rate                0\n",
       "installment             0\n",
       "grade                   0\n",
       "sub_grade               0\n",
       "emp_length              0\n",
       "home_ownership          0\n",
       "annual_inc              0\n",
       "verification_status     0\n",
       "issue_d                 0\n",
       "loan_status             0\n",
       "purpose                 0\n",
       "zip_code                0\n",
       "addr_state              0\n",
       "dti                     0\n",
       "delinq_2yrs             0\n",
       "inq_last_6mths          0\n",
       "open_acc                0\n",
       "pub_rec                 0\n",
       "total_acc               0\n",
       "pub_rec_bankruptcies    0\n",
       "dtype: int64"
      ]
     },
     "execution_count": 171,
     "metadata": {},
     "output_type": "execute_result"
    }
   ],
   "source": [
    "#   Lets verify if all the null values are handled\n",
    "loanData.isnull().sum()"
   ]
  },
  {
   "cell_type": "code",
   "execution_count": 172,
   "metadata": {},
   "outputs": [
    {
     "name": "stdout",
     "output_type": "stream",
     "text": [
      "<class 'pandas.core.frame.DataFrame'>\n",
      "Index: 39020 entries, 0 to 39680\n",
      "Data columns (total 23 columns):\n",
      " #   Column                Non-Null Count  Dtype  \n",
      "---  ------                --------------  -----  \n",
      " 0   loan_amnt             39020 non-null  int64  \n",
      " 1   funded_amnt           39020 non-null  int64  \n",
      " 2   term                  39020 non-null  object \n",
      " 3   int_rate              39020 non-null  object \n",
      " 4   installment           39020 non-null  float64\n",
      " 5   grade                 39020 non-null  object \n",
      " 6   sub_grade             39020 non-null  object \n",
      " 7   emp_length            39020 non-null  object \n",
      " 8   home_ownership        39020 non-null  object \n",
      " 9   annual_inc            39020 non-null  float64\n",
      " 10  verification_status   39020 non-null  object \n",
      " 11  issue_d               39020 non-null  object \n",
      " 12  loan_status           39020 non-null  object \n",
      " 13  purpose               39020 non-null  object \n",
      " 14  zip_code              39020 non-null  object \n",
      " 15  addr_state            39020 non-null  object \n",
      " 16  dti                   39020 non-null  float64\n",
      " 17  delinq_2yrs           39020 non-null  int64  \n",
      " 18  inq_last_6mths        39020 non-null  int64  \n",
      " 19  open_acc              39020 non-null  int64  \n",
      " 20  pub_rec               39020 non-null  int64  \n",
      " 21  total_acc             39020 non-null  int64  \n",
      " 22  pub_rec_bankruptcies  39020 non-null  float64\n",
      "dtypes: float64(4), int64(7), object(12)\n",
      "memory usage: 7.1+ MB\n",
      "None\n"
     ]
    }
   ],
   "source": [
    "#   Lets check the new shpe of our dataset\n",
    "print(loanData.info())"
   ]
  },
  {
   "cell_type": "code",
   "execution_count": 173,
   "metadata": {},
   "outputs": [
    {
     "name": "stdout",
     "output_type": "stream",
     "text": [
      "   loan_amnt  funded_amnt  term int_rate  installment grade sub_grade  \\\n",
      "0       5000         5000   36     10.65       162.87     B        B2   \n",
      "1       2500         2500   60     15.27        59.83     C        C4   \n",
      "\n",
      "  emp_length home_ownership  annual_inc  ...      purpose zip_code addr_state  \\\n",
      "0        10            RENT     24000.0  ...  credit_card      860         AZ   \n",
      "1          0           RENT     30000.0  ...          car      309         GA   \n",
      "\n",
      "     dti delinq_2yrs inq_last_6mths  open_acc  pub_rec  total_acc  \\\n",
      "0  27.65           0              1         3        0          9   \n",
      "1   1.00           0              5         3        0          4   \n",
      "\n",
      "   pub_rec_bankruptcies  \n",
      "0                   0.0  \n",
      "1                   0.0  \n",
      "\n",
      "[2 rows x 23 columns]\n",
      "       loan_amnt  funded_amnt  term int_rate  installment grade sub_grade  \\\n",
      "39666      15450        15450   36     11.22       507.46     C        C4   \n",
      "39680       3000         3000   36     11.86        99.44     D        D1   \n",
      "\n",
      "      emp_length home_ownership  annual_inc  ...             purpose zip_code  \\\n",
      "39666         2        MORTGAGE     40000.0  ...  debt_consolidation      201   \n",
      "39680         2        MORTGAGE     36153.0  ...  debt_consolidation      479   \n",
      "\n",
      "      addr_state    dti delinq_2yrs inq_last_6mths  open_acc  pub_rec  \\\n",
      "39666         VA  13.50           0              3        13        1   \n",
      "39680         IN   7.47           0              2         3        1   \n",
      "\n",
      "       total_acc  pub_rec_bankruptcies  \n",
      "39666         29                   1.0  \n",
      "39680          6                   1.0  \n",
      "\n",
      "[2 rows x 23 columns]\n"
     ]
    },
    {
     "data": {
      "text/plain": [
       "(39020, 23)"
      ]
     },
     "execution_count": 173,
     "metadata": {},
     "output_type": "execute_result"
    }
   ],
   "source": [
    "#   Standardizing data - replacing invalid values from DF\n",
    "\n",
    "#   'int_rate' to remove %\n",
    "loanData['int_rate'] = loanData['int_rate'].str.replace(\"%\",\"\").replace(\" \",\"\")\n",
    "#loanData['int_rate']\n",
    "\n",
    "#   'emp_length' to remove +, <, year and years, if present --done\n",
    "loanData['emp_length'] = loanData['emp_length'].str.replace(\"+\",\"\").replace(\"< 1 year\",\"0\")\n",
    "loanData['emp_length']=loanData['emp_length'].str.replace(\"years\",\"\").replace(\" \",\"\")\n",
    "loanData['emp_length']=loanData['emp_length'].str.replace(\"year\",\"\").replace(\" \",\"\")\n",
    "#loanData['emp_length']\n",
    "\n",
    "# 'term' to remove months \n",
    "loanData['term'] = loanData['term'].str.replace(\"months\",\"\").replace(\" \",\"\")\n",
    "#loanData['term']\n",
    "\n",
    "# 'zip_code' to remove x from the data\n",
    "loanData['zip_code'] = loanData['zip_code'].str.replace(\"x\",\"\")\n",
    "#loanData['zip_code']\n",
    "\n",
    "print(loanData.head(2))\n",
    "print(loanData.tail(2))\n",
    "loanData.shape"
   ]
  },
  {
   "cell_type": "code",
   "execution_count": 174,
   "metadata": {},
   "outputs": [],
   "source": [
    "#   Standardizing data - Changing column type in the DF\n",
    "List_num=['loan_amnt','funded_amnt','term', 'emp_length', 'annual_inc', 'zip_code', 'delinq_2yrs', 'inq_last_6mths', 'open_acc', 'total_acc', 'pub_rec_bankruptcies', 'int_rate', 'installment', 'dti']\n",
    "List_obj=['grade', 'sub_grade', 'home_ownership', 'verification_status', 'loan_status', 'purpose', 'addr_state','issue_d'] \n",
    "\n",
    "#   Changing the column type to numeric\n",
    "loanData[List_num] = loanData[List_num].apply(pd.to_numeric)\n",
    "\n",
    "#   As these all are already in object type, no need to change them\n",
    "for i in List_obj:\n",
    "    loanData[i].dtype"
   ]
  },
  {
   "cell_type": "code",
   "execution_count": 175,
   "metadata": {},
   "outputs": [
    {
     "name": "stdout",
     "output_type": "stream",
     "text": [
      "<class 'pandas.core.frame.DataFrame'>\n",
      "Index: 39020 entries, 0 to 39680\n",
      "Data columns (total 23 columns):\n",
      " #   Column                Non-Null Count  Dtype  \n",
      "---  ------                --------------  -----  \n",
      " 0   loan_amnt             39020 non-null  int64  \n",
      " 1   funded_amnt           39020 non-null  int64  \n",
      " 2   term                  39020 non-null  int64  \n",
      " 3   int_rate              39020 non-null  float64\n",
      " 4   installment           39020 non-null  float64\n",
      " 5   grade                 39020 non-null  object \n",
      " 6   sub_grade             39020 non-null  object \n",
      " 7   emp_length            39020 non-null  int64  \n",
      " 8   home_ownership        39020 non-null  object \n",
      " 9   annual_inc            39020 non-null  float64\n",
      " 10  verification_status   39020 non-null  object \n",
      " 11  issue_d               39020 non-null  object \n",
      " 12  loan_status           39020 non-null  object \n",
      " 13  purpose               39020 non-null  object \n",
      " 14  zip_code              39020 non-null  int64  \n",
      " 15  addr_state            39020 non-null  object \n",
      " 16  dti                   39020 non-null  float64\n",
      " 17  delinq_2yrs           39020 non-null  int64  \n",
      " 18  inq_last_6mths        39020 non-null  int64  \n",
      " 19  open_acc              39020 non-null  int64  \n",
      " 20  pub_rec               39020 non-null  int64  \n",
      " 21  total_acc             39020 non-null  int64  \n",
      " 22  pub_rec_bankruptcies  39020 non-null  float64\n",
      "dtypes: float64(5), int64(10), object(8)\n",
      "memory usage: 7.1+ MB\n",
      "None\n"
     ]
    }
   ],
   "source": [
    "#   Checking information about the dataframe\n",
    "print(loanData.info())"
   ]
  },
  {
   "cell_type": "markdown",
   "metadata": {},
   "source": [
    "### Outliers Treatment"
   ]
  },
  {
   "cell_type": "code",
   "execution_count": 176,
   "metadata": {},
   "outputs": [
    {
     "data": {
      "image/png": "[encoded data removed]",
      "text/plain": [
       "<Figure size 1000x700 with 1 Axes>"
      ]
     },
     "metadata": {},
     "output_type": "display_data"
    }
   ],
   "source": [
    "#   Lets check the outliers for 'loan_amnt'\n",
    "#loanData['loan_amnt'].max()-35000\n",
    "plt.figure(figsize=(10, 7))\n",
    "plt.boxplot(loanData['loan_amnt'])\n",
    "\n",
    "plt.title(\"Loan amount\\n\", fontdict={'fontsize':20,'fontweight':5,'color':'b'})\n",
    "plt.xlabel(\"Applicants\")\n",
    "plt.ylabel(\"Loan Amount\")\n",
    "\n",
    "ticks=np.arange(0,40000,10000)\n",
    "labels=[\"{}k\".format(i//1000) for i in ticks]\n",
    "plt.yticks(ticks,labels)\n",
    "plt.show()\n"
   ]
  },
  {
   "cell_type": "code",
   "execution_count": 177,
   "metadata": {},
   "outputs": [
    {
     "name": "stdout",
     "output_type": "stream",
     "text": [
      "count    39020.000000\n",
      "mean     11242.004741\n",
      "std       7472.992773\n",
      "min        500.000000\n",
      "25%       5500.000000\n",
      "50%      10000.000000\n",
      "75%      15000.000000\n",
      "max      35000.000000\n",
      "Name: loan_amnt, dtype: float64\n"
     ]
    }
   ],
   "source": [
    "#   As we can see that there is presence of outliers, lets get further info\n",
    "print(str(loanData['loan_amnt'].describe()))\n",
    "\n",
    "#As we can see the outliers seems a little away from the 75th percentile, still it data with top 25% sems to be connected, so keeping the data as is."
   ]
  },
  {
   "cell_type": "code",
   "execution_count": 178,
   "metadata": {},
   "outputs": [
    {
     "data": {
      "image/png": "[encoded data removed]",
      "text/plain": [
       "<Figure size 1000x700 with 1 Axes>"
      ]
     },
     "metadata": {},
     "output_type": "display_data"
    }
   ],
   "source": [
    "#   Lets check the outlier for 'annual_inc'\n",
    "plt.figure(figsize=(10, 7))\n",
    "plt.boxplot(loanData['annual_inc'])\n",
    "\n",
    "plt.title(\"Annual Income of the Applicants\\n\", fontdict={'fontsize':20,'fontweight':5,'color':'b'})\n",
    "plt.xlabel(\"Applicants\")\n",
    "plt.ylabel(\"Annual Income\")\n",
    "\n",
    "ticks=np.arange(0,7000000,1000000)\n",
    "labels=[\"{}M\".format(i//1000000) for i in ticks]\n",
    "plt.yticks(ticks,labels)\n",
    "plt.show()"
   ]
  },
  {
   "cell_type": "code",
   "execution_count": 179,
   "metadata": {},
   "outputs": [
    {
     "name": "stdout",
     "output_type": "stream",
     "text": [
      "count    3.902000e+04\n",
      "mean     6.895865e+04\n",
      "std      6.315594e+04\n",
      "min      4.000000e+03\n",
      "25%      4.080000e+04\n",
      "50%      5.900000e+04\n",
      "75%      8.240400e+04\n",
      "max      6.000000e+06\n",
      "Name: annual_inc, dtype: float64\n"
     ]
    },
    {
     "data": {
      "text/plain": [
       "0.50     59000.00\n",
       "0.75     82404.00\n",
       "0.90    116000.00\n",
       "0.95    141619.80\n",
       "0.97    165000.00\n",
       "0.98    186286.44\n",
       "0.99    234486.00\n",
       "Name: annual_inc, dtype: float64"
      ]
     },
     "execution_count": 179,
     "metadata": {},
     "output_type": "execute_result"
    }
   ],
   "source": [
    "#   As we can see that there is presence of outliers, lets get further info\n",
    "print(str(loanData['annual_inc'].describe()))\n",
    "\n",
    "#   lets create quantiles to get better picture to remove these outliers\n",
    "an_inc_quantile = loanData.annual_inc.quantile([0.5, 0.75,0.90, 0.95, 0.97,0.98, 0.99])\n",
    "an_inc_quantile\n"
   ]
  },
  {
   "cell_type": "code",
   "execution_count": 180,
   "metadata": {},
   "outputs": [
    {
     "name": "stdout",
     "output_type": "stream",
     "text": [
      "Before removing outliers, size was 39020\n",
      "After removing outliers, size was 37069\n"
     ]
    }
   ],
   "source": [
    "#   As we can see that the salary more than 95 percentile seems to be little disconnected, so we will limit annual inc to 95 percentile\n",
    "print(\"Before removing outliers, size was \"+str(loanData['annual_inc'].size))\n",
    "percentile_annual_inc_95 = loanData['annual_inc'].quantile(0.95)\n",
    "loanData = loanData[loanData['annual_inc'] <= percentile_annual_inc_95 ]\n",
    "loanData['annual_inc'].size\n",
    "print(\"After removing outliers, size was \"+str(loanData['annual_inc'].size))\n"
   ]
  },
  {
   "cell_type": "code",
   "execution_count": 181,
   "metadata": {},
   "outputs": [
    {
     "data": {
      "image/png": "[encoded data removed]",
      "text/plain": [
       "<Figure size 1000x700 with 1 Axes>"
      ]
     },
     "metadata": {},
     "output_type": "display_data"
    }
   ],
   "source": [
    "#   Lets check the 'annual_inc' now\n",
    "plt.figure(figsize=(10, 7))\n",
    "plt.boxplot(loanData['annual_inc'])\n",
    "\n",
    "plt.title(\"Annual Income of Loan Applicants\\n\", fontdict={'fontsize':20,'fontweight':5,'color':'b'})\n",
    "plt.xlabel(\"Applicants\")\n",
    "plt.ylabel(\"Annual Income\")\n",
    "\n",
    "ticks=np.arange(0,180000,30000)\n",
    "labels=[\"{}k\".format(i//1000) for i in ticks]\n",
    "plt.yticks(ticks,labels)\n",
    "plt.show()\n",
    "\n",
    "#    The data seems much more connected now."
   ]
  },
  {
   "cell_type": "code",
   "execution_count": 182,
   "metadata": {},
   "outputs": [
    {
     "data": {
      "image/png": "[encoded data removed]",
      "text/plain": [
       "<Figure size 1000x700 with 1 Axes>"
      ]
     },
     "metadata": {},
     "output_type": "display_data"
    }
   ],
   "source": [
    "#   Lets check the outliers for 'dti'\n",
    "\n",
    "plt.figure(figsize=(10, 7))\n",
    "plt.boxplot(loanData['dti'])\n",
    "\n",
    "plt.title(\"Debt to Income Ratio for Applicants\\n\", fontdict={'fontsize':20,'fontweight':5,'color':'b'})\n",
    "plt.xlabel(\"Applicants\")\n",
    "plt.ylabel(\"DTI\")\n",
    "\n",
    "ticks=np.arange(0,30,5)\n",
    "labels=[\"{}\".format(i) for i in ticks]\n",
    "plt.yticks(ticks,labels)\n",
    "plt.show()"
   ]
  },
  {
   "cell_type": "code",
   "execution_count": 183,
   "metadata": {},
   "outputs": [
    {
     "data": {
      "text/html": [
       "<div>\n",
       "<style scoped>\n",
       "    .dataframe tbody tr th:only-of-type {\n",
       "        vertical-align: middle;\n",
       "    }\n",
       "\n",
       "    .dataframe tbody tr th {\n",
       "        vertical-align: top;\n",
       "    }\n",
       "\n",
       "    .dataframe thead th {\n",
       "        text-align: right;\n",
       "    }\n",
       "</style>\n",
       "<table border=\"1\" class=\"dataframe\">\n",
       "  <thead>\n",
       "    <tr style=\"text-align: right;\">\n",
       "      <th></th>\n",
       "      <th>loan_amnt</th>\n",
       "      <th>funded_amnt</th>\n",
       "      <th>term</th>\n",
       "      <th>int_rate</th>\n",
       "      <th>installment</th>\n",
       "      <th>grade</th>\n",
       "      <th>sub_grade</th>\n",
       "      <th>emp_length</th>\n",
       "      <th>home_ownership</th>\n",
       "      <th>annual_inc</th>\n",
       "      <th>...</th>\n",
       "      <th>addr_state</th>\n",
       "      <th>dti</th>\n",
       "      <th>delinq_2yrs</th>\n",
       "      <th>inq_last_6mths</th>\n",
       "      <th>open_acc</th>\n",
       "      <th>pub_rec</th>\n",
       "      <th>total_acc</th>\n",
       "      <th>pub_rec_bankruptcies</th>\n",
       "      <th>issue_month</th>\n",
       "      <th>issue_year</th>\n",
       "    </tr>\n",
       "  </thead>\n",
       "  <tbody>\n",
       "    <tr>\n",
       "      <th>39562</th>\n",
       "      <td>4800</td>\n",
       "      <td>4800</td>\n",
       "      <td>36</td>\n",
       "      <td>10.28</td>\n",
       "      <td>155.52</td>\n",
       "      <td>C</td>\n",
       "      <td>C1</td>\n",
       "      <td>1</td>\n",
       "      <td>RENT</td>\n",
       "      <td>35000.0</td>\n",
       "      <td>...</td>\n",
       "      <td>VA</td>\n",
       "      <td>7.51</td>\n",
       "      <td>0</td>\n",
       "      <td>0</td>\n",
       "      <td>11</td>\n",
       "      <td>1</td>\n",
       "      <td>12</td>\n",
       "      <td>1.0</td>\n",
       "      <td>Nov</td>\n",
       "      <td>07</td>\n",
       "    </tr>\n",
       "    <tr>\n",
       "      <th>39573</th>\n",
       "      <td>7000</td>\n",
       "      <td>7000</td>\n",
       "      <td>36</td>\n",
       "      <td>10.59</td>\n",
       "      <td>227.82</td>\n",
       "      <td>C</td>\n",
       "      <td>C2</td>\n",
       "      <td>3</td>\n",
       "      <td>MORTGAGE</td>\n",
       "      <td>63500.0</td>\n",
       "      <td>...</td>\n",
       "      <td>AZ</td>\n",
       "      <td>8.50</td>\n",
       "      <td>0</td>\n",
       "      <td>1</td>\n",
       "      <td>9</td>\n",
       "      <td>1</td>\n",
       "      <td>21</td>\n",
       "      <td>1.0</td>\n",
       "      <td>Nov</td>\n",
       "      <td>07</td>\n",
       "    </tr>\n",
       "    <tr>\n",
       "      <th>39623</th>\n",
       "      <td>9000</td>\n",
       "      <td>9000</td>\n",
       "      <td>36</td>\n",
       "      <td>12.49</td>\n",
       "      <td>301.04</td>\n",
       "      <td>D</td>\n",
       "      <td>D3</td>\n",
       "      <td>8</td>\n",
       "      <td>MORTGAGE</td>\n",
       "      <td>39000.0</td>\n",
       "      <td>...</td>\n",
       "      <td>MD</td>\n",
       "      <td>5.08</td>\n",
       "      <td>0</td>\n",
       "      <td>3</td>\n",
       "      <td>9</td>\n",
       "      <td>1</td>\n",
       "      <td>37</td>\n",
       "      <td>1.0</td>\n",
       "      <td>Oct</td>\n",
       "      <td>07</td>\n",
       "    </tr>\n",
       "    <tr>\n",
       "      <th>39666</th>\n",
       "      <td>15450</td>\n",
       "      <td>15450</td>\n",
       "      <td>36</td>\n",
       "      <td>11.22</td>\n",
       "      <td>507.46</td>\n",
       "      <td>C</td>\n",
       "      <td>C4</td>\n",
       "      <td>2</td>\n",
       "      <td>MORTGAGE</td>\n",
       "      <td>40000.0</td>\n",
       "      <td>...</td>\n",
       "      <td>VA</td>\n",
       "      <td>13.50</td>\n",
       "      <td>0</td>\n",
       "      <td>3</td>\n",
       "      <td>13</td>\n",
       "      <td>1</td>\n",
       "      <td>29</td>\n",
       "      <td>1.0</td>\n",
       "      <td>Aug</td>\n",
       "      <td>07</td>\n",
       "    </tr>\n",
       "    <tr>\n",
       "      <th>39680</th>\n",
       "      <td>3000</td>\n",
       "      <td>3000</td>\n",
       "      <td>36</td>\n",
       "      <td>11.86</td>\n",
       "      <td>99.44</td>\n",
       "      <td>D</td>\n",
       "      <td>D1</td>\n",
       "      <td>2</td>\n",
       "      <td>MORTGAGE</td>\n",
       "      <td>36153.0</td>\n",
       "      <td>...</td>\n",
       "      <td>IN</td>\n",
       "      <td>7.47</td>\n",
       "      <td>0</td>\n",
       "      <td>2</td>\n",
       "      <td>3</td>\n",
       "      <td>1</td>\n",
       "      <td>6</td>\n",
       "      <td>1.0</td>\n",
       "      <td>Aug</td>\n",
       "      <td>07</td>\n",
       "    </tr>\n",
       "  </tbody>\n",
       "</table>\n",
       "<p>5 rows × 24 columns</p>\n",
       "</div>"
      ],
      "text/plain": [
       "       loan_amnt  funded_amnt  term  int_rate  installment grade sub_grade  \\\n",
       "39562       4800         4800    36     10.28       155.52     C        C1   \n",
       "39573       7000         7000    36     10.59       227.82     C        C2   \n",
       "39623       9000         9000    36     12.49       301.04     D        D3   \n",
       "39666      15450        15450    36     11.22       507.46     C        C4   \n",
       "39680       3000         3000    36     11.86        99.44     D        D1   \n",
       "\n",
       "       emp_length home_ownership  annual_inc  ... addr_state    dti  \\\n",
       "39562           1           RENT     35000.0  ...         VA   7.51   \n",
       "39573           3       MORTGAGE     63500.0  ...         AZ   8.50   \n",
       "39623           8       MORTGAGE     39000.0  ...         MD   5.08   \n",
       "39666           2       MORTGAGE     40000.0  ...         VA  13.50   \n",
       "39680           2       MORTGAGE     36153.0  ...         IN   7.47   \n",
       "\n",
       "      delinq_2yrs  inq_last_6mths open_acc  pub_rec  total_acc  \\\n",
       "39562           0               0       11        1         12   \n",
       "39573           0               1        9        1         21   \n",
       "39623           0               3        9        1         37   \n",
       "39666           0               3       13        1         29   \n",
       "39680           0               2        3        1          6   \n",
       "\n",
       "       pub_rec_bankruptcies  issue_month  issue_year  \n",
       "39562                   1.0          Nov          07  \n",
       "39573                   1.0          Nov          07  \n",
       "39623                   1.0          Oct          07  \n",
       "39666                   1.0          Aug          07  \n",
       "39680                   1.0          Aug          07  \n",
       "\n",
       "[5 rows x 24 columns]"
      ]
     },
     "execution_count": 183,
     "metadata": {},
     "output_type": "execute_result"
    }
   ],
   "source": [
    "#   Create 'issue_months' and 'issue_year' columns from 'issue_d' and dropping the 'issue_d'\n",
    "loanData['issue_month']=loanData['issue_d'].astype('string')\n",
    "loanData['issue_year']=loanData['issue_d'].astype('string')\n",
    "\n",
    "loanData['issue_month'] = loanData['issue_month'].apply(lambda x : x.split('-')[0])\n",
    "loanData['issue_year']= loanData['issue_year'].apply(lambda x : x.split('-')[1])\n",
    "\n",
    "loanData = loanData.drop(['issue_d'], axis=1)\n",
    "\n",
    "loanData.head()\n",
    "loanData.tail()"
   ]
  },
  {
   "cell_type": "markdown",
   "metadata": {},
   "source": [
    "### ANALYSIS ON THE CLEAN DATA\n",
    "\n",
    "dtypes: float64(20), int64(13), object(24)<br>\n",
    "No duplicate rows found on basis of id column<br>\n",
    "There were 6 columns which were dropped as those had only 1 value for all rows, which was not helpful for the analysis<br>\n",
    "We can see for these 4 columns, named as  'mths_since_last_record', 'mths_since_last_delinq', 'desc' and 'next_pymnt_d', has the null value percentage greater than 20%. Therefore, we have to drop these above columns.<br> \n",
    "Dropped 'id' and 'membership_id' as they have unique values across the table and couldn't help us further with the analysis<br>\n",
    "After deleting the non required columns, we are left with 22 columns left"
   ]
  },
  {
   "cell_type": "markdown",
   "metadata": {},
   "source": [
    "## Univariate Analysis\n"
   ]
  },
  {
   "cell_type": "code",
   "execution_count": 184,
   "metadata": {},
   "outputs": [
    {
     "data": {
      "text/plain": [
       "Text(0.5, 1.0, 'Loan Status')"
      ]
     },
     "execution_count": 184,
     "metadata": {},
     "output_type": "execute_result"
    },
    {
     "data": {
      "image/png": "[encoded data removed]",
      "text/plain": [
       "<Figure size 640x480 with 1 Axes>"
      ]
     },
     "metadata": {},
     "output_type": "display_data"
    }
   ],
   "source": [
    "#   Lets do the Analysis on 'loan_status' categiories\n",
    "sns.countplot(x = 'loan_status',data = loanData).set_title(\"Loan Status\")"
   ]
  },
  {
   "cell_type": "markdown",
   "metadata": {},
   "source": [
    "This represents Highest applicants have loan status of Fully Paid, followed by Charged off and lastly current."
   ]
  },
  {
   "cell_type": "code",
   "execution_count": 185,
   "metadata": {},
   "outputs": [
    {
     "data": {
      "image/png": "[encoded data removed]",
      "text/plain": [
       "<Figure size 640x480 with 1 Axes>"
      ]
     },
     "metadata": {},
     "output_type": "display_data"
    },
    {
     "name": "stdout",
     "output_type": "stream",
     "text": [
      "[     0.  15000.  30000.  45000.  60000.  75000.  90000. 105000. 120000.\n",
      " 135000. 150000.]\n",
      "count     37069.000000\n",
      "mean      61101.800200\n",
      "std       27774.338676\n",
      "min        4000.000000\n",
      "25%       40000.000000\n",
      "50%       56004.000000\n",
      "75%       78000.000000\n",
      "max      141600.000000\n",
      "Name: annual_inc, dtype: float64\n"
     ]
    }
   ],
   "source": [
    "#   Lets do the Analysis on 'annual_inc' categiories\n",
    "# print(loanData.annual_inc.max())  #4000\n",
    "# print(loanData.annual_inc.min())  #141600\n",
    "\n",
    "plt.hist(loanData['annual_inc'], bins = 10, edgecolor='white')\n",
    "\n",
    "plt.title(\"Annual Income of the Applicants\\n\", fontdict={'fontsize':20,'fontweight':5,'color':'b'})\n",
    "plt.xlabel(\"Annual Income\")\n",
    "plt.ylabel(\"Total Applicant\")\n",
    "\n",
    "plt.show()\n",
    "print(bins)\n",
    "print(loanData['annual_inc'].describe())"
   ]
  },
  {
   "cell_type": "markdown",
   "metadata": {},
   "source": [
    "This represents the maximum number of Applicant for loan are having a annual income of 30000 - 40000. Additionally, it also tells around 4500 people have salary less than 30000."
   ]
  },
  {
   "cell_type": "code",
   "execution_count": 186,
   "metadata": {},
   "outputs": [
    {
     "data": {
      "image/png": "[encoded data removed]",
      "text/plain": [
       "<Figure size 640x480 with 1 Axes>"
      ]
     },
     "metadata": {},
     "output_type": "display_data"
    }
   ],
   "source": [
    "#   Lets do the Analysis on 'dti' categiories\n",
    "\n",
    "ou1,bins,out3=plt.hist(loanData['dti'], bins = 6, range=[0,30],edgecolor='white')\n",
    "\n",
    "plt.title(\"DTI - Debt to Income\\n\", fontdict={'fontsize':20,'fontweight':5,'color':'b'})\n",
    "plt.xlabel(\"DTI\")\n",
    "plt.ylabel(\"Total Applicant\")\n",
    "\n",
    "plt.show()"
   ]
  },
  {
   "cell_type": "markdown",
   "metadata": {},
   "source": [
    "This represents that the composition of DTI of the data.Composition of highest applicants with top 3 DTI falls under the categories as 10-15, 15-20 and 5-10 respectively. "
   ]
  },
  {
   "cell_type": "code",
   "execution_count": 187,
   "metadata": {},
   "outputs": [
    {
     "data": {
      "text/plain": [
       "Text(0.5, 1.0, 'Public Recorded Bankruptcies')"
      ]
     },
     "execution_count": 187,
     "metadata": {},
     "output_type": "execute_result"
    },
    {
     "data": {
      "image/png": "[encoded data removed]",
      "text/plain": [
       "<Figure size 640x480 with 1 Axes>"
      ]
     },
     "metadata": {},
     "output_type": "display_data"
    }
   ],
   "source": [
    "#   Lets do the Analysis on 'pub_rec_bankruptcies' categiories\n",
    "sns.countplot(x = 'pub_rec_bankruptcies', data = loanData).set_title('Public Recorded Bankruptcies')"
   ]
  },
  {
   "cell_type": "markdown",
   "metadata": {},
   "source": [
    "Seems like there are 1634 applicants with public recorded bankruptcies."
   ]
  },
  {
   "cell_type": "code",
   "execution_count": 188,
   "metadata": {},
   "outputs": [
    {
     "data": {
      "text/plain": [
       "Text(0.5, 1.0, 'Home Ownership of the Applicants')"
      ]
     },
     "execution_count": 188,
     "metadata": {},
     "output_type": "execute_result"
    },
    {
     "data": {
      "image/png": "[encoded data removed]",
      "text/plain": [
       "<Figure size 640x480 with 1 Axes>"
      ]
     },
     "metadata": {},
     "output_type": "display_data"
    }
   ],
   "source": [
    "#   Lets do the Analysis on 'home_ownership' categiories\n",
    "sns.countplot(x = 'home_ownership', data = loanData).set_title('Home Ownership of the Applicants')"
   ]
  },
  {
   "cell_type": "markdown",
   "metadata": {},
   "source": [
    "It presents most of the applicants are either living on rent or property is mortgage."
   ]
  },
  {
   "cell_type": "code",
   "execution_count": 189,
   "metadata": {},
   "outputs": [
    {
     "data": {
      "text/plain": [
       "Text(0.5, 1.0, 'Verification Status of Applicants')"
      ]
     },
     "execution_count": 189,
     "metadata": {},
     "output_type": "execute_result"
    },
    {
     "data": {
      "image/png": "[encoded data removed]",
      "text/plain": [
       "<Figure size 640x480 with 1 Axes>"
      ]
     },
     "metadata": {},
     "output_type": "display_data"
    }
   ],
   "source": [
    "#   Lets do the Analysis on 'verification_status' categiories\n",
    "sns.countplot(x = 'verification_status', data = loanData).set_title('Verification Status of Applicants')"
   ]
  },
  {
   "cell_type": "markdown",
   "metadata": {},
   "source": [
    "This represents high number of applicants which have not being verified. This is followed by the count of source verified and verified are nearly same. "
   ]
  },
  {
   "cell_type": "code",
   "execution_count": 190,
   "metadata": {},
   "outputs": [
    {
     "data": {
      "text/plain": [
       "Text(0.5, 1.0, 'Loan enquiry in last 6 months')"
      ]
     },
     "execution_count": 190,
     "metadata": {},
     "output_type": "execute_result"
    },
    {
     "data": {
      "image/png": "[encoded data removed]",
      "text/plain": [
       "<Figure size 640x480 with 1 Axes>"
      ]
     },
     "metadata": {},
     "output_type": "display_data"
    }
   ],
   "source": [
    "#   Lets do the Analysis on 'delinq_2yrs' categiories\n",
    "sns.countplot(x = 'inq_last_6mths', data = loanData).set_title('Loan enquiry in last 6 months')"
   ]
  },
  {
   "cell_type": "markdown",
   "metadata": {},
   "source": [
    "This represents inquiry in last 6 months data. Seems like the most of the applicants have 0 to 3 enquiries. However, there are some applicants with enquiry between 4 to 8"
   ]
  },
  {
   "cell_type": "code",
   "execution_count": 191,
   "metadata": {},
   "outputs": [
    {
     "data": {
      "text/plain": [
       "Text(0.5, 1.0, 'Loan term of Applicants(In Months)')"
      ]
     },
     "execution_count": 191,
     "metadata": {},
     "output_type": "execute_result"
    },
    {
     "data": {
      "image/png": "[encoded data removed]",
      "text/plain": [
       "<Figure size 640x480 with 1 Axes>"
      ]
     },
     "metadata": {},
     "output_type": "display_data"
    }
   ],
   "source": [
    "#   Lets do the Analysis on 'term' categiories\n",
    "sns.countplot(x = 'term', data = loanData).set_title('Loan term of Applicants(In Months)')"
   ]
  },
  {
   "cell_type": "markdown",
   "metadata": {},
   "source": [
    "This represents maximum applicants have a Loan term of 36 months."
   ]
  },
  {
   "cell_type": "code",
   "execution_count": 192,
   "metadata": {},
   "outputs": [
    {
     "data": {
      "text/plain": [
       "Text(0.5, 1.0, 'Issue of Loan(monthly)')"
      ]
     },
     "execution_count": 192,
     "metadata": {},
     "output_type": "execute_result"
    },
    {
     "data": {
      "image/png": "[encoded data removed]",
      "text/plain": [
       "<Figure size 640x480 with 1 Axes>"
      ]
     },
     "metadata": {},
     "output_type": "display_data"
    }
   ],
   "source": [
    "#   Lets do the Analysis on 'issue_month' categiories\n",
    "sns.countplot(x = 'issue_month', data = loanData).set_title('Issue of Loan(monthly)')"
   ]
  },
  {
   "cell_type": "markdown",
   "metadata": {},
   "source": [
    "This represents the maximum loan being issued in December."
   ]
  },
  {
   "cell_type": "markdown",
   "metadata": {},
   "source": [
    "## Bivariate Analysis"
   ]
  },
  {
   "cell_type": "code",
   "execution_count": null,
   "metadata": {},
   "outputs": [],
   "source": []
  }
 ],
 "metadata": {
  "kernelspec": {
   "display_name": "Python 3 (ipykernel)",
   "language": "python",
   "name": "python3"
  },
  "language_info": {
   "codemirror_mode": {
    "name": "ipython",
    "version": 3
   },
   "file_extension": ".py",
   "mimetype": "text/x-python",
   "name": "python",
   "nbconvert_exporter": "python",
   "pygments_lexer": "ipython3",
   "version": "3.11.5"
  }
 },
 "nbformat": 4,
 "nbformat_minor": 2
}
